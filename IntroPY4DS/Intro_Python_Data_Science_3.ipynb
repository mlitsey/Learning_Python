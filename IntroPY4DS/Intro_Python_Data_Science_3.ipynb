{
 "cells": [
  {
   "cell_type": "markdown",
   "metadata": {},
   "source": [
    "# Intro to Python for Data Science day 2"
   ]
  },
  {
   "cell_type": "markdown",
   "metadata": {},
   "source": [
    "AD Authentication\n",
    "    \n",
    "1. Easy AD\n",
    "2. PyAD\n",
    "\n",
    "both allow search, add, edit, query\n",
    "\n",
    "service runing auth. python with AD\n",
    "\n",
    "simplest solution\n",
    "1. windows/linux env variables\n",
    "    win - username, userdomain env vars assigned after AD auth\n",
    "    \n",
    "2. "
   ]
  },
  {
   "cell_type": "code",
   "execution_count": 1,
   "metadata": {},
   "outputs": [],
   "source": [
    "# got to cmd rpompt type SET\n",
    "# look as username and userdomain env vars\n",
    "# in powershell cd env: SET? -> ls worked\n",
    "\n",
    "# get-process |sort cpu -desc\n",
    "# get-process |sort cpu -desc | select -first 5\n",
    "# ping -h\n",
    "# function qp { ping -n 1 -w 100 $args }\n",
    "# qp www.google.com\n",
    "# "
   ]
  },
  {
   "cell_type": "markdown",
   "metadata": {},
   "source": [
    "# Design aspects\n",
    "\n",
    "1. create class, can anyone implement it?\n",
    "2. what is it used for?\n",
    "3. implementation is applied to what?\n",
    "\n",
    "SOLID design principals ... require OO development methods\n",
    "    single responsibility principal -> small chuncks of code\n",
    "    open / closed principal -> open to use, closed to modification\n",
    "    liskov substitution principal -> 2 classes similar things should be abstracted away\n",
    "    interface segregation principal ->  \n",
    "    dependency inversion\n",
    "4. \n"
   ]
  },
  {
   "cell_type": "code",
   "execution_count": 4,
   "metadata": {},
   "outputs": [
    {
     "ename": "TypeError",
     "evalue": "Can't instantiate abstract class Shape with abstract methods square",
     "output_type": "error",
     "traceback": [
      "\u001b[1;31m---------------------------------------------------------------------------\u001b[0m",
      "\u001b[1;31mTypeError\u001b[0m                                 Traceback (most recent call last)",
      "\u001b[1;32m<ipython-input-4-047d6405de20>\u001b[0m in \u001b[0;36m<module>\u001b[1;34m\u001b[0m\n\u001b[0;32m     11\u001b[0m         \u001b[0mprint\u001b[0m\u001b[1;33m(\u001b[0m\u001b[1;34m'it is a square'\u001b[0m\u001b[1;33m)\u001b[0m\u001b[1;33m\u001b[0m\u001b[1;33m\u001b[0m\u001b[0m\n\u001b[0;32m     12\u001b[0m \u001b[1;33m\u001b[0m\u001b[0m\n\u001b[1;32m---> 13\u001b[1;33m \u001b[0ma\u001b[0m \u001b[1;33m=\u001b[0m \u001b[0mShape\u001b[0m\u001b[1;33m(\u001b[0m\u001b[1;33m)\u001b[0m \u001b[1;31m# error, instance of an abstract class\u001b[0m\u001b[1;33m\u001b[0m\u001b[1;33m\u001b[0m\u001b[0m\n\u001b[0m\u001b[0;32m     14\u001b[0m \u001b[1;33m\u001b[0m\u001b[0m\n",
      "\u001b[1;31mTypeError\u001b[0m: Can't instantiate abstract class Shape with abstract methods square"
     ]
    }
   ],
   "source": [
    "# abstract classes -> no implementation, just design in pythong\n",
    "# abc -> abstract base class, no code, design only, need to be implemented by inherited class.. must be inherited then implemented\n",
    "#!cd /\n",
    "#!mkdir class\n",
    "#!cd ./class\n",
    "\n",
    "from abc import ABC, abstractmethod\n",
    "class Shape(ABC): #shape inherits from ABC\n",
    "    @abstractmethod # decorator, forces square to be used\n",
    "    def square(self):\n",
    "        print('it is a square')\n",
    "\n",
    "a = Shape() # error, instance of an abstract class "
   ]
  },
  {
   "cell_type": "code",
   "execution_count": 6,
   "metadata": {},
   "outputs": [
    {
     "data": {
      "text/plain": [
       "<bound method Triangle.square of <__main__.Triangle object at 0x000001CFAFDA6550>>"
      ]
     },
     "execution_count": 6,
     "metadata": {},
     "output_type": "execute_result"
    }
   ],
   "source": [
    "class Triangle(Shape): # inherits from Shape\n",
    "    def square(self):\n",
    "        print('from the inherited class triangle')\n",
    "        \n",
    "a = Triangle()\n",
    "a.square"
   ]
  },
  {
   "cell_type": "code",
   "execution_count": null,
   "metadata": {},
   "outputs": [],
   "source": [
    "# singleton pattern - only create one instance of the calss (i.e. log files)\n",
    "from singleton_base import Singleton\n",
    "import time\n",
    "\n",
    "class Logger(Singleton):\n",
    "    log_file = None\n",
    "    \n",
    "    def __init__(self,path):\n",
    "        if self.log_file is None:\n",
    "            self.log_file=open(path,mode='w')\n",
    "            \n",
    "    def write_log(self, log_record):\n",
    "        now = str(datetime.datetime.now())\n",
    "        print('record .....')\n",
    "        \n",
    "    def close_log(self):\n",
    "        self.log_file.close()\n",
    "        self.log_file=None\n",
    "        \n",
    "    "
   ]
  },
  {
   "cell_type": "code",
   "execution_count": null,
   "metadata": {},
   "outputs": [],
   "source": [
    "from logger_base import Logger\n",
    "\n",
    "logger = Logger('my.log')\n",
    "logger.write_log('something')\n",
    "logger2 = Logger('my2.log') # will be ignored and will continue on my.log\n",
    "logger2.write_log('something else')\n",
    "logger.close_log()\n",
    "\n",
    "with open('my.log','r'):\n",
    "    print('log opened')\n"
   ]
  },
  {
   "cell_type": "code",
   "execution_count": null,
   "metadata": {},
   "outputs": [],
   "source": [
    "# builder pattern - hide complexity of implementation by building 'encapsulation', and hiding the details and exposing\n",
    "# only the attributes necessary, in order of importance\n",
    "\n"
   ]
  },
  {
   "cell_type": "code",
   "execution_count": null,
   "metadata": {},
   "outputs": [],
   "source": [
    "# Factory pattern - define interface for creating objects, let subclasses decide which object to apply what code to.\n",
    "# Defer instantiation to subclasses, known as \"virtual constructor\"\n",
    "\n",
    "#get-process notepad | select if, mainwindowtitle\n",
    "#get-process notepad | ?{$_.id -ne 14668}\n",
    "#"
   ]
  },
  {
   "cell_type": "code",
   "execution_count": 14,
   "metadata": {},
   "outputs": [
    {
     "name": "stdout",
     "output_type": "stream",
     "text": [
      "[97.7, 98.60000000000001, 99.5, 102.2]\n"
     ]
    },
    {
     "data": {
      "text/plain": [
       "[2.5, 2.7777777777777777, 3.055555555555556, 3.8888888888888893]"
      ]
     },
     "execution_count": 14,
     "metadata": {},
     "output_type": "execute_result"
    }
   ],
   "source": [
    "def Farenheit(T):\n",
    "    return ((float(9)/5)*T + 32)\n",
    "def Celsius(T):\n",
    "    return(float(5)/9)*(T-32)\n",
    "    \n",
    "temp= (36.5,37,37.5,39)\n",
    "F= map(Farenheit,temp)\n",
    "print(list(F))\n",
    "C = map(Celsius,temp)\n",
    "list(C)"
   ]
  },
  {
   "cell_type": "code",
   "execution_count": 12,
   "metadata": {},
   "outputs": [
    {
     "name": "stdout",
     "output_type": "stream",
     "text": [
      "<map object at 0x000001CFB0164048>\n",
      "<class 'map'>\n"
     ]
    },
    {
     "data": {
      "text/plain": [
       "[102.56, 97.7, 99.14, 100.03999999999999]"
      ]
     },
     "execution_count": 12,
     "metadata": {},
     "output_type": "execute_result"
    }
   ],
   "source": [
    "Cel = [39.2,36.5,37.3,37.8]\n",
    "Farenheit = map(lambda x:(float(9)/5) * x + 32,Cel)\n",
    "print(Farenheit)\n",
    "print(type(Farenheit))\n",
    "list(Farenheit)"
   ]
  },
  {
   "cell_type": "code",
   "execution_count": 17,
   "metadata": {},
   "outputs": [
    {
     "data": {
      "text/plain": [
       "113"
      ]
     },
     "execution_count": 17,
     "metadata": {},
     "output_type": "execute_result"
    }
   ],
   "source": [
    "import functools\n",
    "functools.reduce(lambda x,y: x+y,[47,11,42,13])"
   ]
  },
  {
   "cell_type": "code",
   "execution_count": 18,
   "metadata": {},
   "outputs": [
    {
     "data": {
      "text/plain": [
       "range(0, 10)"
      ]
     },
     "execution_count": 18,
     "metadata": {},
     "output_type": "execute_result"
    }
   ],
   "source": [
    "my_list = range(10)\n",
    "my_list"
   ]
  },
  {
   "cell_type": "code",
   "execution_count": 19,
   "metadata": {},
   "outputs": [
    {
     "data": {
      "text/plain": [
       "[0, 1, 2, 3, 4, 5, 6, 7, 8, 9]"
      ]
     },
     "execution_count": 19,
     "metadata": {},
     "output_type": "execute_result"
    }
   ],
   "source": [
    "list(my_list)"
   ]
  },
  {
   "cell_type": "code",
   "execution_count": 20,
   "metadata": {},
   "outputs": [
    {
     "data": {
      "text/plain": [
       "['even', 'odd', 'even', 'odd', 'even', 'odd', 'even', 'odd', 'even', 'odd']"
      ]
     },
     "execution_count": 20,
     "metadata": {},
     "output_type": "execute_result"
    }
   ],
   "source": [
    "# list comprehension\n",
    "['even' if i%2==0 else 'odd' for i in my_list]"
   ]
  },
  {
   "cell_type": "code",
   "execution_count": 21,
   "metadata": {},
   "outputs": [
    {
     "data": {
      "text/plain": [
       "[(0, 'a'), (1, 'b'), (2, 'c'), (3, 'd'), (4, 'e')]"
      ]
     },
     "execution_count": 21,
     "metadata": {},
     "output_type": "execute_result"
    }
   ],
   "source": [
    "my_list = ['a','b','c','d','e']\n",
    "[(i,j) for (i,j) in enumerate(my_list)]"
   ]
  },
  {
   "cell_type": "code",
   "execution_count": 22,
   "metadata": {},
   "outputs": [
    {
     "data": {
      "text/plain": [
       "[2]"
      ]
     },
     "execution_count": 22,
     "metadata": {},
     "output_type": "execute_result"
    }
   ],
   "source": [
    "[i for (i,j) in enumerate(my_list) if j == 'c']"
   ]
  },
  {
   "cell_type": "code",
   "execution_count": 24,
   "metadata": {},
   "outputs": [
    {
     "data": {
      "text/plain": [
       "['1', '2', '3', '4', '5']"
      ]
     },
     "execution_count": 24,
     "metadata": {},
     "output_type": "execute_result"
    }
   ],
   "source": [
    "string = 'hello 12345 world'\n",
    "numbers = [x for x in string if x.isdigit()]\n",
    "numbers"
   ]
  },
  {
   "cell_type": "code",
   "execution_count": 25,
   "metadata": {},
   "outputs": [
    {
     "data": {
      "text/plain": [
       "[30, 50, 70, 50, 70, 90, 70, 90, 110]"
      ]
     },
     "execution_count": 25,
     "metadata": {},
     "output_type": "execute_result"
    }
   ],
   "source": [
    "[x+y for x in [10,30,50] for y in [20,40,60]]"
   ]
  },
  {
   "cell_type": "code",
   "execution_count": 26,
   "metadata": {},
   "outputs": [
    {
     "data": {
      "text/plain": [
       "['this is line2\\n']"
      ]
     },
     "execution_count": 26,
     "metadata": {},
     "output_type": "execute_result"
    }
   ],
   "source": [
    "fh = open('lines.txt','r')\n",
    "result = [i for i in fh if 'line2' in i]\n",
    "result"
   ]
  },
  {
   "cell_type": "code",
   "execution_count": 27,
   "metadata": {},
   "outputs": [
    {
     "data": {
      "text/plain": [
       "['a', 'b', 'c']"
      ]
     },
     "execution_count": 27,
     "metadata": {},
     "output_type": "execute_result"
    }
   ],
   "source": [
    "[x.lower() for x in [\"A\",\"B\",\"C\"]]"
   ]
  },
  {
   "cell_type": "code",
   "execution_count": 28,
   "metadata": {},
   "outputs": [
    {
     "data": {
      "text/plain": [
       "['A', 'B', 'C']"
      ]
     },
     "execution_count": 28,
     "metadata": {},
     "output_type": "execute_result"
    }
   ],
   "source": [
    "[x.upper() for x in ['a','b','c']]"
   ]
  },
  {
   "cell_type": "code",
   "execution_count": 30,
   "metadata": {},
   "outputs": [
    {
     "data": {
      "text/plain": [
       "['Jeff', 'Don', 'Jason']"
      ]
     },
     "execution_count": 30,
     "metadata": {},
     "output_type": "execute_result"
    }
   ],
   "source": [
    "[x.capitalize() for x in ['jeff','don','jason']]"
   ]
  },
  {
   "cell_type": "code",
   "execution_count": 31,
   "metadata": {},
   "outputs": [
    {
     "data": {
      "text/plain": [
       "[4, 4, 3, 4, 5, 5, 7]"
      ]
     },
     "execution_count": 31,
     "metadata": {},
     "output_type": "execute_result"
    }
   ],
   "source": [
    "names = ['anne','beth','tom','alex','jimmy','larry','willian']\n",
    "length = map(len,names)\n",
    "list(length)"
   ]
  },
  {
   "cell_type": "code",
   "execution_count": 32,
   "metadata": {},
   "outputs": [
    {
     "data": {
      "text/plain": [
       "25"
      ]
     },
     "execution_count": 32,
     "metadata": {},
     "output_type": "execute_result"
    }
   ],
   "source": [
    "(lambda x: x ** 2)(5)"
   ]
  },
  {
   "cell_type": "code",
   "execution_count": 33,
   "metadata": {},
   "outputs": [
    {
     "data": {
      "text/plain": [
       "12"
      ]
     },
     "execution_count": 33,
     "metadata": {},
     "output_type": "execute_result"
    }
   ],
   "source": [
    "(lambda x,y: x*y)(3,4)"
   ]
  },
  {
   "cell_type": "code",
   "execution_count": 34,
   "metadata": {},
   "outputs": [
    {
     "data": {
      "text/plain": [
       "True"
      ]
     },
     "execution_count": 34,
     "metadata": {},
     "output_type": "execute_result"
    }
   ],
   "source": [
    "(lambda x: x.startswith('B'))('Bob')"
   ]
  },
  {
   "cell_type": "code",
   "execution_count": 35,
   "metadata": {},
   "outputs": [
    {
     "data": {
      "text/plain": [
       "4"
      ]
     },
     "execution_count": 35,
     "metadata": {},
     "output_type": "execute_result"
    }
   ],
   "source": [
    "incrementer = lambda input: input + 1\n",
    "incrementer(3)"
   ]
  },
  {
   "cell_type": "code",
   "execution_count": 36,
   "metadata": {},
   "outputs": [
    {
     "data": {
      "text/plain": [
       "[0, 1, 4, 9, 16, 25, 36, 49, 64, 81]"
      ]
     },
     "execution_count": 36,
     "metadata": {},
     "output_type": "execute_result"
    }
   ],
   "source": [
    "squares = map(lambda x: x**2, range(10))\n",
    "list(squares)"
   ]
  },
  {
   "cell_type": "code",
   "execution_count": 38,
   "metadata": {},
   "outputs": [
    {
     "data": {
      "text/plain": [
       "[36, 49, 64]"
      ]
     },
     "execution_count": 38,
     "metadata": {},
     "output_type": "execute_result"
    }
   ],
   "source": [
    "squares = [x**2 for x in range(1,11)]\n",
    "def f(x):\n",
    "    if x> 30 and x<70:\n",
    "        return True\n",
    "    else:\n",
    "        return False\n",
    "k = filter(f,squares)\n",
    "list(k)"
   ]
  },
  {
   "cell_type": "code",
   "execution_count": 44,
   "metadata": {},
   "outputs": [
    {
     "name": "stdout",
     "output_type": "stream",
     "text": [
      "<class 'filter'>\n"
     ]
    }
   ],
   "source": [
    "filter(lambda x : x>30 and x<70, squares)\n",
    "print(filter)"
   ]
  },
  {
   "cell_type": "code",
   "execution_count": 41,
   "metadata": {},
   "outputs": [],
   "source": [
    "# Adapter pattern - make your code work with all versions old/new, with same or different APIs,\n",
    "# the exact same manner. Msft and other vendors call this 'shims'\n",
    "\n"
   ]
  },
  {
   "cell_type": "code",
   "execution_count": 45,
   "metadata": {},
   "outputs": [
    {
     "data": {
      "text/plain": [
       "\" state pattern - transitioning 'states' of a process are recorded, can be reversed, removed, monitored, or killed \\nat any point    \""
      ]
     },
     "execution_count": 45,
     "metadata": {},
     "output_type": "execute_result"
    }
   ],
   "source": [
    "''' state pattern - transitioning 'states' of a process are recorded, can be reversed, removed, monitored, or killed \n",
    "at any point    '''\n",
    "\n"
   ]
  },
  {
   "cell_type": "code",
   "execution_count": null,
   "metadata": {},
   "outputs": [],
   "source": [
    "''' proxy pattern - let the smarter 'middle mang' handle the operation\n",
    "    examples: remote, virtual, protection, and smart reference.\n",
    "                DBMS' use all of them as needed\n",
    "'''"
   ]
  }
 ],
 "metadata": {
  "kernelspec": {
   "display_name": "Python 3",
   "language": "python",
   "name": "python3"
  },
  "language_info": {
   "codemirror_mode": {
    "name": "ipython",
    "version": 3
   },
   "file_extension": ".py",
   "mimetype": "text/x-python",
   "name": "python",
   "nbconvert_exporter": "python",
   "pygments_lexer": "ipython3",
   "version": "3.7.1"
  }
 },
 "nbformat": 4,
 "nbformat_minor": 2
}
